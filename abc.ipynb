{
 "cells": [
  {
   "cell_type": "code",
   "execution_count": 1,
   "id": "cf087ecd-f271-4dd4-bad3-f36c987ad0ff",
   "metadata": {},
   "outputs": [
    {
     "data": {
      "text/html": [
       "<h1>Catherine Josen (N11883057)</h1>"
      ],
      "text/plain": [
       "<IPython.core.display.HTML object>"
      ]
     },
     "execution_count": 1,
     "metadata": {},
     "output_type": "execute_result"
    }
   ],
   "source": [
    "\n",
    "# Complete the following cell with your details and run to produce your personalised header for this assignment\n",
    "\n",
    "from IPython.display import HTML\n",
    "\n",
    "# personal details\n",
    "first_name = \"Catherine\"\n",
    "last_name = \"Josen\"\n",
    "student_number = \"N11883057\"\n",
    "\n",
    "personal_header = f\"<h1>{first_name} {last_name} ({student_number})</h1>\"\n",
    "HTML(personal_header)"
   ]
  },
  {
   "cell_type": "markdown",
   "id": "58404b2f-33ae-4042-b254-becf531b2188",
   "metadata": {},
   "source": [
    "*We'll be analyzing unstructured information about \"Government\" related to an Australian production office. This data will be retrieved using an API that requires a Guardian key, and we'll focus on information starting from April 1st, 2024*"
   ]
  },
  {
   "cell_type": "code",
   "execution_count": 2,
   "id": "ca1e469d-b290-4ea1-85d6-ec97684fdab3",
   "metadata": {},
   "outputs": [
    {
     "name": "stdout",
     "output_type": "stream",
     "text": [
      "Loaded 137 articles from wod_articles.json\n"
     ]
    }
   ],
   "source": [
    "# Load the data - articles from The Guardian about the war in Ukraine\n",
    "file_name = \"wod_articles.json\"\n",
    "\n",
    "with open(f\"{file_name}\",'r', encoding='utf-8') as fp:\n",
    "    articles = json.load(fp)\n",
    "\n",
    "print(f\"Loaded {len(articles)} articles from {file_name}\")"
   ]
  },
  {
   "cell_type": "markdown",
   "id": "d53d6c67-f49c-4ac1-8eb6-888a00490dff",
   "metadata": {},
   "source": [
    "*At the outset of our analysis, we shall commence by importing the requisite libraries.*"
   ]
  },
  {
   "cell_type": "code",
   "execution_count": 3,
   "id": "6dd94889-9348-49d4-9282-4f9f48ebc62a",
   "metadata": {},
   "outputs": [
    {
     "name": "stderr",
     "output_type": "stream",
     "text": [
      "/tmp/ipykernel_465/2854994355.py:4: DeprecationWarning: \n",
      "Pyarrow will become a required dependency of pandas in the next major release of pandas (pandas 3.0),\n",
      "(to allow more performant data types, such as the Arrow string type, and better interoperability with other libraries)\n",
      "but was not found to be installed on your system.\n",
      "If this would cause problems for you,\n",
      "please provide us feedback at https://github.com/pandas-dev/pandas/issues/54466\n",
      "        \n",
      "  import pandas as pd\n"
     ]
    }
   ],
   "source": [
    "# Import the necessary libraries\n",
    "from sklearn.feature_extraction.text import TfidfVectorizer, CountVectorizer\n",
    "from sklearn.decomposition import LatentDirichletAllocation, NMF\n",
    "import pandas as pd\n",
    "import json\n",
    "import random"
   ]
  },
  {
   "cell_type": "markdown",
   "id": "83b1543a-13a0-4585-8365-9fd98f165550",
   "metadata": {},
   "source": [
    "*This code initializes a CountVectorizer to convert a collection of text documents (stored in articles) into a matrix of token counts, ignoring terms that appear in more than 75% or fewer than 2 documents, and limiting the vocabulary to 10,000 terms while excluding English stop words like a , an , and , the etc...* \n",
    "*The fit_transform method then learns the vocabulary dictionary and returns the term-document matrix.*"
   ]
  },
  {
   "cell_type": "markdown",
   "id": "7b64ee5f-bd6d-4bfe-903e-eb44043eb9b1",
   "metadata": {},
   "source": [
    "*The primary objective of this analysis is to distill and categorize the unstructured data into thematic clusters, thereby facilitating the extraction of valuable insights.*"
   ]
  },
  {
   "cell_type": "code",
   "execution_count": 4,
   "id": "0675d47e-fc45-414d-aa60-8960d0330e7b",
   "metadata": {},
   "outputs": [],
   "source": [
    "# Only count terms that in maximum of 75% of documents, and a minimum of 2 documents. \n",
    "# Count a maximum of 10000 terms, and remove common english stop words\n",
    "# Assuming articles_text holds a list of article strings\n",
    "count_vectorizer = CountVectorizer(max_df=0.75, min_df=2, max_features=10000, stop_words=\"english\")\n",
    "count_dt_matrix = count_vectorizer.fit_transform(articles.values())"
   ]
  },
  {
   "cell_type": "markdown",
   "id": "a69bcfae-3efc-4ab3-ac13-8bafe7646312",
   "metadata": {},
   "source": [
    "\n",
    "*This code extracts the feature names (terms) from the CountVectorizer and creates a new DataFrame count_df with the term-document matrix, using article titles as the index and the extracted feature names as the columns. The toarray() method converts the sparse matrix to a dense array for the DataFrame.*"
   ]
  },
  {
   "cell_type": "markdown",
   "id": "f03bbde3-66dc-418a-a6c4-facec7acc5da",
   "metadata": {},
   "source": [
    "\n",
    "*This step is important because it organizes the term-document matrix into a readable and accessible format, allowing us to easily analyze the frequency of terms across different articles and gain insights into the textual data.*"
   ]
  },
  {
   "cell_type": "code",
   "execution_count": 5,
   "id": "2350b701-e2ba-4897-8ba4-4d165b30172e",
   "metadata": {},
   "outputs": [],
   "source": [
    "\n",
    "# Create a new dataframe with the matrix - use titles for the index and terms for the columns\n",
    "feature_names = count_vectorizer.get_feature_names_out()\n",
    "count_df = pd.DataFrame(count_dt_matrix.toarray(), index=articles.keys(), columns=feature_names)"
   ]
  },
  {
   "cell_type": "markdown",
   "id": "a29c9149-5f24-48c5-a993-b54a413ebf9c",
   "metadata": {},
   "source": [
    "\n",
    "*This code randomly selects 10 samples from the count_df DataFrame, then for each selected sample, it retrieves the document (article) and identifies the top 10 terms by frequency, printing the document's title and its top terms.*"
   ]
  },
  {
   "cell_type": "markdown",
   "id": "09e51e9e-9393-47df-bd0e-cd1587831dad",
   "metadata": {},
   "source": [
    "\n",
    "*This step is important because it allows us to quickly identify and analyze the most significant terms in a subset of articles, providing insights into the key topics and themes within the dataset.*"
   ]
  },
  {
   "cell_type": "code",
   "execution_count": 6,
   "id": "82fd728a-0c17-4da1-a00e-7d8e6a924ca8",
   "metadata": {},
   "outputs": [
    {
     "name": "stdout",
     "output_type": "stream",
     "text": [
      "[102] I’m no stranger to having work banned. If you want to protect kids, this is not the way to do it | Maya Newell [2024-05-10T03:31:27Z]\n",
      "\t- Top terms: {'families': 11, 'children': 10, 'books': 9, 'queer': 7, 'kids': 6, 'place': 4, 'libraries': 4, 'world': 4, 'ban': 3, 'violence': 3}\n",
      "[29] Ukraine war briefing: Long-range Atacms already hitting Russian forces [2024-04-25T00:31:49Z]\n",
      "\t- Top terms: {'ukraine': 14, 'russia': 11, 'russian': 5, 'long': 5, 'ukrainian': 5, 'children': 5, 'wednesday': 4, 'abroad': 4, 'previously': 3, 'fight': 3}\n",
      "[86] The jailing of David McBride is a dark day for democracy and press freedom in Australia | Kieran Pender and Peter Greste [2024-05-14T06:18:27Z]\n",
      "\t- Top terms: {'mcbride': 12, 'australia': 10, 'whistleblower': 8, 'public': 6, 'whistleblowers': 6, 'freedom': 5, 'years': 4, 'david': 4, 'afghanistan': 4, 'need': 4}\n",
      "[57] Ukraine war briefing: ‘Thank you America’ says Zelenskiy as aid passes House at last [2024-04-21T00:52:51Z]\n",
      "\t- Top terms: {'ukraine': 13, 'russia': 7, 'region': 4, 'fuel': 4, 'russian': 4, 'defence': 4, 'china': 4, 'official': 3, 'munitions': 3, 'hit': 3}\n",
      "[69] Israel-Gaza war: Turkey dismisses ‘fictional’ Israeli claims it is easing trade ban – as it happened [2024-05-09T14:11:13Z]\n",
      "\t- Top terms: {'israel': 150, 'gaza': 82, 'rafah': 78, 'israeli': 77, 'bst': 59, 'biden': 48, 'reuters': 37, 'military': 35, 'aid': 35, 'thursday': 35}\n",
      "[89] Afternoon Update: David McBride jailed; university wants protest camp dismantled; and orcas sink a yacht [2024-05-14T07:03:30Z]\n",
      "\t- Top terms: {'new': 5, 'lawyer': 4, 'word': 4, 'university': 4, 'mcbride': 4, 'australian': 4, 'trump': 4, 'court': 3, 'wind': 3, 'pilot': 3}\n",
      "[82] Fate of Middle East hangs in the balance as Israel mulls its next steps  [2024-04-14T04:53:20Z]\n",
      "\t- Top terms: {'israel': 16, 'netanyahu': 9, 'israeli': 8, 'attack': 8, 'iranian': 7, 'response': 7, 'iran': 6, 'officials': 5, 'biden': 5, 'defence': 4}\n",
      "[115] Seven boss departs – as it happened [2024-04-18T08:28:02Z]\n",
      "\t- Top terms: {'bst': 157, 'updated': 71, 'government': 64, 'police': 64, 'australia': 47, 'media': 42, 'community': 42, 'year': 37, 'report': 33, 'social': 33}\n",
      "[6] ACTU calls for sanctions on Israel over Gaza war – as it happened [2024-04-22T07:54:36Z]\n",
      "\t- Top terms: {'bst': 114, 'updated': 51, 'government': 44, 'budget': 38, 'australia': 38, 'new': 35, 'police': 34, 'sydney': 32, 'minister': 29, 'nsw': 29}\n",
      "[111] Sydney counter-terror raids – as it happened [2024-04-24T07:37:39Z]\n",
      "\t- Top terms: {'bst': 132, 'updated': 58, 'government': 48, 'australia': 47, 'nsw': 43, 'police': 41, 'climate': 38, 'sydney': 37, 'year': 37, 'today': 32}\n"
     ]
    }
   ],
   "source": [
    "samples = random.sample(range(0,len(count_df)),10)\n",
    "\n",
    "for sample in samples:\n",
    "    doc = count_df.iloc[sample]\n",
    "    top_terms = dict(count_df.iloc[sample].sort_values(ascending=False).head(10))\n",
    "    print(f\"[{sample}] {doc.name}\")\n",
    "    print(\"\\t- Top terms:\",top_terms)"
   ]
  },
  {
   "cell_type": "markdown",
   "id": "f86a34af-a0ed-4b29-b2a7-6014bf6b097f",
   "metadata": {},
   "source": [
    "*Our limited data (10 articles) can help us with the in-depth analysis. We can use QDAVI to explore it further.*\n",
    "\n",
    "*The first step (Q) is defining a clear question* - **Since our articles are unstructured, we will have to have a wider range of questions. We will try to analyse our articles with the below possibilities.**\n",
    "\n",
    "**Government Priorities, their policy areas and initiatives, Comparitive Analysis, Differentiation in government activities, shifting priorities and their limitations**\n",
    "\n",
    "*The second step (D) is the Data - this step has already been done. Here we have used the gaurdian API key to retrive our unstructured data which we then filtered to randome 10 articles*\n",
    "\n",
    "*The third step (A) is Analysis - we will be using Machine Learning mainly LDA to do our analysis*\n",
    "\n",
    "*The fourth step (V) is Visualisation - Here we have use k-means clustering to group similar data points together. It's like sorting fruits by color!*\n",
    "\n",
    "*The last and the final step (I) stands for Insights - They give us a deeper understanding of why things happen, not just what happens. This allows us to make better decisions and prediction*"
   ]
  },
  {
   "cell_type": "markdown",
   "id": "6b7c8834-11b5-4561-9fa7-5ff56e70d066",
   "metadata": {},
   "source": [
    "--------------------------------------------------------------------------------------------"
   ]
  },
  {
   "cell_type": "markdown",
   "id": "cf68da3c-c200-4933-a410-114277a7af5f",
   "metadata": {},
   "source": [
    "*The below code creates a new DataFrame named terms_df with the same index as count_df. It has three columns: 'count', 'tfidf', and 'lda' but initially fills them with NaN (Not a Number) values.  This likely prepares the DataFrame to hold word counts, TF-IDF (Term Frequency-Inverse Document Frequency), and LDA (Latent Dirichlet Allocation) scores for future analysis.*\n",
    "\n",
    "*count -- The number of times a word appears in the text corpus*\n",
    "\n",
    "*tfidf -- The TF-IDF score of a word, which considers both the frequency of the word in a document and its rarity across the corpus (higher scores indicate greater importance)*\n",
    "\n",
    "*lda -- The LDA score of a word, which indicates its association with a particular topic within the corpus*"
   ]
  },
  {
   "cell_type": "code",
   "execution_count": 7,
   "id": "196b5d69-9022-4095-b51a-647736455f9c",
   "metadata": {
    "scrolled": true
   },
   "outputs": [
    {
     "data": {
      "text/html": [
       "<div>\n",
       "<style scoped>\n",
       "    .dataframe tbody tr th:only-of-type {\n",
       "        vertical-align: middle;\n",
       "    }\n",
       "\n",
       "    .dataframe tbody tr th {\n",
       "        vertical-align: top;\n",
       "    }\n",
       "\n",
       "    .dataframe thead th {\n",
       "        text-align: right;\n",
       "    }\n",
       "</style>\n",
       "<table border=\"1\" class=\"dataframe\">\n",
       "  <thead>\n",
       "    <tr style=\"text-align: right;\">\n",
       "      <th></th>\n",
       "      <th>count</th>\n",
       "      <th>tfidf</th>\n",
       "      <th>lda</th>\n",
       "    </tr>\n",
       "  </thead>\n",
       "  <tbody>\n",
       "    <tr>\n",
       "      <th>You’ve heard of the placebo effect – but what’s the nocebo effect? Is pain all in the mind? [2024-04-29T15:00:17Z]</th>\n",
       "      <td>NaN</td>\n",
       "      <td>NaN</td>\n",
       "      <td>NaN</td>\n",
       "    </tr>\n",
       "    <tr>\n",
       "      <th>Ukraine war briefing: Zelenskiy warns of dwindling weapons stockpile as attack on Kharkiv kills eight [2024-04-07T01:33:36Z]</th>\n",
       "      <td>NaN</td>\n",
       "      <td>NaN</td>\n",
       "      <td>NaN</td>\n",
       "    </tr>\n",
       "    <tr>\n",
       "      <th>On Anzac Day you’ll hear stories of courage and mateship. It’s a way to rationalise war | Paul Daley [2024-04-24T15:00:15Z]</th>\n",
       "      <td>NaN</td>\n",
       "      <td>NaN</td>\n",
       "      <td>NaN</td>\n",
       "    </tr>\n",
       "    <tr>\n",
       "      <th>Ukraine war briefing: Three killed in second day of Russian attacks on Zaporizhzhia region, says governor [2024-04-09T01:27:44Z]</th>\n",
       "      <td>NaN</td>\n",
       "      <td>NaN</td>\n",
       "      <td>NaN</td>\n",
       "    </tr>\n",
       "    <tr>\n",
       "      <th>Ukraine war briefing: alarm over drone attack on Zaporizhzhia power plant [2024-04-07T22:56:09Z]</th>\n",
       "      <td>NaN</td>\n",
       "      <td>NaN</td>\n",
       "      <td>NaN</td>\n",
       "    </tr>\n",
       "    <tr>\n",
       "      <th>...</th>\n",
       "      <td>...</td>\n",
       "      <td>...</td>\n",
       "      <td>...</td>\n",
       "    </tr>\n",
       "    <tr>\n",
       "      <th>Lawyers granted more time to consider appeal – as it happened [2024-05-01T07:51:25Z]</th>\n",
       "      <td>NaN</td>\n",
       "      <td>NaN</td>\n",
       "      <td>NaN</td>\n",
       "    </tr>\n",
       "    <tr>\n",
       "      <th>Bonza urged to pay April wages; data breach exposes family violence, sexual assault data – as it happened [2024-05-03T07:52:26Z]</th>\n",
       "      <td>NaN</td>\n",
       "      <td>NaN</td>\n",
       "      <td>NaN</td>\n",
       "    </tr>\n",
       "    <tr>\n",
       "      <th>Senator’s X account removed – as it happened [2024-04-23T07:42:37Z]</th>\n",
       "      <td>NaN</td>\n",
       "      <td>NaN</td>\n",
       "      <td>NaN</td>\n",
       "    </tr>\n",
       "    <tr>\n",
       "      <th>Aurora australis offers second chance of ‘bloody awesome’ southern lights display on Sunday [2024-05-12T06:35:20Z]</th>\n",
       "      <td>NaN</td>\n",
       "      <td>NaN</td>\n",
       "      <td>NaN</td>\n",
       "    </tr>\n",
       "    <tr>\n",
       "      <th>Treasurer delivers budget speech – as it happened [2024-05-14T11:55:11Z]</th>\n",
       "      <td>NaN</td>\n",
       "      <td>NaN</td>\n",
       "      <td>NaN</td>\n",
       "    </tr>\n",
       "  </tbody>\n",
       "</table>\n",
       "<p>137 rows × 3 columns</p>\n",
       "</div>"
      ],
      "text/plain": [
       "                                                   count tfidf  lda\n",
       "You’ve heard of the placebo effect – but what’s...   NaN   NaN  NaN\n",
       "Ukraine war briefing: Zelenskiy warns of dwindl...   NaN   NaN  NaN\n",
       "On Anzac Day you’ll hear stories of courage and...   NaN   NaN  NaN\n",
       "Ukraine war briefing: Three killed in second da...   NaN   NaN  NaN\n",
       "Ukraine war briefing: alarm over drone attack o...   NaN   NaN  NaN\n",
       "...                                                  ...   ...  ...\n",
       "Lawyers granted more time to consider appeal – ...   NaN   NaN  NaN\n",
       "Bonza urged to pay April wages; data breach exp...   NaN   NaN  NaN\n",
       "Senator’s X account removed – as it happened [2...   NaN   NaN  NaN\n",
       "Aurora australis offers second chance of ‘blood...   NaN   NaN  NaN\n",
       "Treasurer delivers budget speech – as it happen...   NaN   NaN  NaN\n",
       "\n",
       "[137 rows x 3 columns]"
      ]
     },
     "execution_count": 7,
     "metadata": {},
     "output_type": "execute_result"
    }
   ],
   "source": [
    "# Create a dataframe to hold top terms for each analysis type\n",
    "terms_df = pd.DataFrame(index=count_df.index,columns=['count','tfidf','lda'])\n",
    "terms_df"
   ]
  },
  {
   "cell_type": "markdown",
   "id": "084608b7-c1d8-497d-aa56-f82235a74a70",
   "metadata": {},
   "source": [
    "*From the column* **TOPIC** *it can be viewed that* **Ukraine war briefing** *was repeated quite a number of times*"
   ]
  },
  {
   "cell_type": "markdown",
   "id": "5643f4d3-6256-404a-aefe-0f235c759938",
   "metadata": {},
   "source": [
    "-------------------------------------------------------------------------------------------------"
   ]
  },
  {
   "cell_type": "markdown",
   "id": "1500b4fa-57e7-450a-8635-02f8fd04b115",
   "metadata": {},
   "source": [
    "## COUNT \n",
    "*In text analysis, \"count\" refers to the simple tally of how many times a word appears in a document. It's a basic but crucial step for understanding word usage patterns.*\n",
    "\n",
    "*Imagine counting the number of times each fruit appears in a fruit salad. A high count for \"apple\" suggests it's a prominent ingredient.*\n",
    "\n",
    "*Here's a breakdown of counts:*\n",
    "\n",
    "**Simple and Fast:** *Counting is easy to calculate and understand.*\n",
    "\n",
    "**Shows Word Frequency:** *It reveals which words appear most often in a document.*\n",
    "\n",
    "**Limited Insight:** *Counts alone don't tell the whole story. A rare word might be very important, even if its count is low.*\n",
    "\n",
    "**While counts are a starting point, techniques like TF-IDF (considers word frequency and rarity) can provide deeper insights into a document's content.**"
   ]
  },
  {
   "cell_type": "markdown",
   "id": "ce47429a-31fc-48f9-885d-bff31227bb1a",
   "metadata": {},
   "source": [
    "\n",
    "*This code zooms in on the most important words used in each government document. It keeps only the 10 words that appear most frequently in each document. By focusing on these key terms, we can potentially identify the main themes or topics discussed within each government article.* \n",
    "\n",
    "*Once this is done, the data is filled in the 'count' column*\n"
   ]
  },
  {
   "cell_type": "code",
   "execution_count": 8,
   "id": "8b2d7275-3774-4692-b756-9967537c159f",
   "metadata": {},
   "outputs": [
    {
     "data": {
      "text/html": [
       "<div>\n",
       "<style scoped>\n",
       "    .dataframe tbody tr th:only-of-type {\n",
       "        vertical-align: middle;\n",
       "    }\n",
       "\n",
       "    .dataframe tbody tr th {\n",
       "        vertical-align: top;\n",
       "    }\n",
       "\n",
       "    .dataframe thead th {\n",
       "        text-align: right;\n",
       "    }\n",
       "</style>\n",
       "<table border=\"1\" class=\"dataframe\">\n",
       "  <thead>\n",
       "    <tr style=\"text-align: right;\">\n",
       "      <th></th>\n",
       "      <th>count</th>\n",
       "      <th>tfidf</th>\n",
       "      <th>lda</th>\n",
       "    </tr>\n",
       "  </thead>\n",
       "  <tbody>\n",
       "    <tr>\n",
       "      <th>You’ve heard of the placebo effect – but what’s the nocebo effect? Is pain all in the mind? [2024-04-29T15:00:17Z]</th>\n",
       "      <td>[pain, effect, negative, treatment, experience...</td>\n",
       "      <td>NaN</td>\n",
       "      <td>NaN</td>\n",
       "    </tr>\n",
       "    <tr>\n",
       "      <th>Ukraine war briefing: Zelenskiy warns of dwindling weapons stockpile as attack on Kharkiv kills eight [2024-04-07T01:33:36Z]</th>\n",
       "      <td>[russian, ukraine, russia, saturday, forces, r...</td>\n",
       "      <td>NaN</td>\n",
       "      <td>NaN</td>\n",
       "    </tr>\n",
       "    <tr>\n",
       "      <th>On Anzac Day you’ll hear stories of courage and mateship. It’s a way to rationalise war | Paul Daley [2024-04-24T15:00:15Z]</th>\n",
       "      <td>[australia, wars, anzac, politicians, defence,...</td>\n",
       "      <td>NaN</td>\n",
       "      <td>NaN</td>\n",
       "    </tr>\n",
       "    <tr>\n",
       "      <th>Ukraine war briefing: Three killed in second day of Russian attacks on Zaporizhzhia region, says governor [2024-04-09T01:27:44Z]</th>\n",
       "      <td>[russia, ukraine, military, russian, minister,...</td>\n",
       "      <td>NaN</td>\n",
       "      <td>NaN</td>\n",
       "    </tr>\n",
       "    <tr>\n",
       "      <th>Ukraine war briefing: alarm over drone attack on Zaporizhzhia power plant [2024-04-07T22:56:09Z]</th>\n",
       "      <td>[ukrainian, ukraine, russia, russian, attacks,...</td>\n",
       "      <td>NaN</td>\n",
       "      <td>NaN</td>\n",
       "    </tr>\n",
       "    <tr>\n",
       "      <th>...</th>\n",
       "      <td>...</td>\n",
       "      <td>...</td>\n",
       "      <td>...</td>\n",
       "    </tr>\n",
       "    <tr>\n",
       "      <th>Lawyers granted more time to consider appeal – as it happened [2024-05-01T07:51:25Z]</th>\n",
       "      <td>[bst, updated, australia, violence, women, gov...</td>\n",
       "      <td>NaN</td>\n",
       "      <td>NaN</td>\n",
       "    </tr>\n",
       "    <tr>\n",
       "      <th>Bonza urged to pay April wages; data breach exposes family violence, sexual assault data – as it happened [2024-05-03T07:52:26Z]</th>\n",
       "      <td>[bst, updated, australia, women, violence, min...</td>\n",
       "      <td>NaN</td>\n",
       "      <td>NaN</td>\n",
       "    </tr>\n",
       "    <tr>\n",
       "      <th>Senator’s X account removed – as it happened [2024-04-23T07:42:37Z]</th>\n",
       "      <td>[bst, government, updated, australia, australi...</td>\n",
       "      <td>NaN</td>\n",
       "      <td>NaN</td>\n",
       "    </tr>\n",
       "    <tr>\n",
       "      <th>Aurora australis offers second chance of ‘bloody awesome’ southern lights display on Sunday [2024-05-12T06:35:20Z]</th>\n",
       "      <td>[night, bom, lights, parts, storm, chance, sou...</td>\n",
       "      <td>NaN</td>\n",
       "      <td>NaN</td>\n",
       "    </tr>\n",
       "    <tr>\n",
       "      <th>Treasurer delivers budget speech – as it happened [2024-05-14T11:55:11Z]</th>\n",
       "      <td>[bst, budget, updated, government, says, chalm...</td>\n",
       "      <td>NaN</td>\n",
       "      <td>NaN</td>\n",
       "    </tr>\n",
       "  </tbody>\n",
       "</table>\n",
       "<p>137 rows × 3 columns</p>\n",
       "</div>"
      ],
      "text/plain": [
       "                                                                                                count  \\\n",
       "You’ve heard of the placebo effect – but what’s...  [pain, effect, negative, treatment, experience...   \n",
       "Ukraine war briefing: Zelenskiy warns of dwindl...  [russian, ukraine, russia, saturday, forces, r...   \n",
       "On Anzac Day you’ll hear stories of courage and...  [australia, wars, anzac, politicians, defence,...   \n",
       "Ukraine war briefing: Three killed in second da...  [russia, ukraine, military, russian, minister,...   \n",
       "Ukraine war briefing: alarm over drone attack o...  [ukrainian, ukraine, russia, russian, attacks,...   \n",
       "...                                                                                               ...   \n",
       "Lawyers granted more time to consider appeal – ...  [bst, updated, australia, violence, women, gov...   \n",
       "Bonza urged to pay April wages; data breach exp...  [bst, updated, australia, women, violence, min...   \n",
       "Senator’s X account removed – as it happened [2...  [bst, government, updated, australia, australi...   \n",
       "Aurora australis offers second chance of ‘blood...  [night, bom, lights, parts, storm, chance, sou...   \n",
       "Treasurer delivers budget speech – as it happen...  [bst, budget, updated, government, says, chalm...   \n",
       "\n",
       "                                                   tfidf  lda  \n",
       "You’ve heard of the placebo effect – but what’s...   NaN  NaN  \n",
       "Ukraine war briefing: Zelenskiy warns of dwindl...   NaN  NaN  \n",
       "On Anzac Day you’ll hear stories of courage and...   NaN  NaN  \n",
       "Ukraine war briefing: Three killed in second da...   NaN  NaN  \n",
       "Ukraine war briefing: alarm over drone attack o...   NaN  NaN  \n",
       "...                                                  ...  ...  \n",
       "Lawyers granted more time to consider appeal – ...   NaN  NaN  \n",
       "Bonza urged to pay April wages; data breach exp...   NaN  NaN  \n",
       "Senator’s X account removed – as it happened [2...   NaN  NaN  \n",
       "Aurora australis offers second chance of ‘blood...   NaN  NaN  \n",
       "Treasurer delivers budget speech – as it happen...   NaN  NaN  \n",
       "\n",
       "[137 rows x 3 columns]"
      ]
     },
     "execution_count": 8,
     "metadata": {},
     "output_type": "execute_result"
    }
   ],
   "source": [
    "#For each doc, get the 10 columns with the largest counts\n",
    "for idx in terms_df.index:\n",
    "    counts = dict(count_df.loc[idx].sort_values(ascending=False).head(10))\n",
    "    #print(counts)\n",
    "    terms_df.at[idx,'count'] = list(counts.keys()) # Just the list of terms\n",
    "\n",
    "terms_df"
   ]
  },
  {
   "cell_type": "markdown",
   "id": "2ea6cfca-0f13-4c7b-904d-00582467c341",
   "metadata": {},
   "source": [
    "*As we can see, each document has a set of words which has been repeated the most and we are assuming that our article topics lies somewhere in them*\n",
    "\n",
    "*Words like Ukraine, war, bst, Autralia, government has been repeated quite a number of times*\n",
    "\n",
    "*However there are some considerations we should take while doing this calculation*\n",
    "\n",
    "**Data Bias:** *Watch out for limitations in the document set and phrasing used by governments. Word counts might not reflect the full picture.*\n",
    "\n",
    "**Data Privacy:**  *Anonymize sensitive information and be cautious about sharing word count data if it could reveal sensitive details.*\n",
    "\n",
    "**Interpretation:**  *Consider context and don't oversimplify complex topics based solely on word counts.\n",
    "Transparency: Be clear about the source of documents and your methodology for calculating word counts.*"
   ]
  },
  {
   "cell_type": "markdown",
   "id": "24faa591-c699-4160-bffa-8bafc9fb5858",
   "metadata": {},
   "source": [
    "----------------------------------------------------------------------------------------"
   ]
  },
  {
   "cell_type": "markdown",
   "id": "e214f061-ce35-4cc7-94ad-c3df2aab7f0b",
   "metadata": {},
   "source": [
    "## TF - IDF\n",
    "\n",
    "*TF-IDF stands for Term Frequency-Inverse Document Frequency. It's a method used to evaluate a word's importance within a document and across a collection of documents. Here's the gist:*\n",
    "\n",
    "**Term Frequency (TF):** *How often a word appears in a specific document. The more frequent, the more relevant it likely is to that document's content.*\n",
    "\n",
    "**Inverse Document Frequency (IDF):** *Considers how common a word is across all documents. Rare words are more informative than very common ones.*\n",
    "\n",
    "*By focusing on words with high TF-IDF scores, we can gain insights into the key themes and topics discussed within a document.*"
   ]
  },
  {
   "cell_type": "markdown",
   "id": "50b639ff-da31-4868-afaf-579dc00553ba",
   "metadata": {},
   "source": [
    "\n",
    "*The next code block transforms government documents from text into a numerical representation using TF-IDF. It then identifies the most informative words (based on TF-IDF) for each document, potentially revealing the key topics or themes discussed in those documents. This information can be valuable for further analysis of government communications.*"
   ]
  },
  {
   "cell_type": "code",
   "execution_count": 9,
   "id": "8691f2ee-a4f6-4243-9c84-73abeaa26651",
   "metadata": {},
   "outputs": [
    {
     "data": {
      "text/html": [
       "<div>\n",
       "<style scoped>\n",
       "    .dataframe tbody tr th:only-of-type {\n",
       "        vertical-align: middle;\n",
       "    }\n",
       "\n",
       "    .dataframe tbody tr th {\n",
       "        vertical-align: top;\n",
       "    }\n",
       "\n",
       "    .dataframe thead th {\n",
       "        text-align: right;\n",
       "    }\n",
       "</style>\n",
       "<table border=\"1\" class=\"dataframe\">\n",
       "  <thead>\n",
       "    <tr style=\"text-align: right;\">\n",
       "      <th></th>\n",
       "      <th>count</th>\n",
       "      <th>tfidf</th>\n",
       "      <th>lda</th>\n",
       "    </tr>\n",
       "  </thead>\n",
       "  <tbody>\n",
       "    <tr>\n",
       "      <th>You’ve heard of the placebo effect – but what’s the nocebo effect? Is pain all in the mind? [2024-04-29T15:00:17Z]</th>\n",
       "      <td>[pain, effect, negative, treatment, experience...</td>\n",
       "      <td>[pain, negative, symptoms, effect, heat, treat...</td>\n",
       "      <td>NaN</td>\n",
       "    </tr>\n",
       "    <tr>\n",
       "      <th>Ukraine war briefing: Zelenskiy warns of dwindling weapons stockpile as attack on Kharkiv kills eight [2024-04-07T01:33:36Z]</th>\n",
       "      <td>[russian, ukraine, russia, saturday, forces, r...</td>\n",
       "      <td>[russian, ukraine, saturday, syrskyi, fico, sl...</td>\n",
       "      <td>NaN</td>\n",
       "    </tr>\n",
       "    <tr>\n",
       "      <th>On Anzac Day you’ll hear stories of courage and mateship. It’s a way to rationalise war | Paul Daley [2024-04-24T15:00:15Z]</th>\n",
       "      <td>[australia, wars, anzac, politicians, defence,...</td>\n",
       "      <td>[anzac, wars, dates, australia, suicide, coura...</td>\n",
       "      <td>NaN</td>\n",
       "    </tr>\n",
       "    <tr>\n",
       "      <th>Ukraine war briefing: Three killed in second day of Russian attacks on Zaporizhzhia region, says governor [2024-04-09T01:27:44Z]</th>\n",
       "      <td>[russia, ukraine, military, russian, minister,...</td>\n",
       "      <td>[russia, ukraine, reactor, attacks, russian, z...</td>\n",
       "      <td>NaN</td>\n",
       "    </tr>\n",
       "    <tr>\n",
       "      <th>Ukraine war briefing: alarm over drone attack on Zaporizhzhia power plant [2024-04-07T22:56:09Z]</th>\n",
       "      <td>[ukrainian, ukraine, russia, russian, attacks,...</td>\n",
       "      <td>[ukrainian, ukraine, nuclear, russia, russian,...</td>\n",
       "      <td>NaN</td>\n",
       "    </tr>\n",
       "    <tr>\n",
       "      <th>...</th>\n",
       "      <td>...</td>\n",
       "      <td>...</td>\n",
       "      <td>...</td>\n",
       "    </tr>\n",
       "    <tr>\n",
       "      <th>Lawyers granted more time to consider appeal – as it happened [2024-05-01T07:51:25Z]</th>\n",
       "      <td>[bst, updated, australia, violence, women, gov...</td>\n",
       "      <td>[bst, faruqi, hanson, updated, violence, women...</td>\n",
       "      <td>NaN</td>\n",
       "    </tr>\n",
       "    <tr>\n",
       "      <th>Bonza urged to pay April wages; data breach exposes family violence, sexual assault data – as it happened [2024-05-03T07:52:26Z]</th>\n",
       "      <td>[bst, updated, australia, women, violence, min...</td>\n",
       "      <td>[bst, updated, bonza, women, violence, adminis...</td>\n",
       "      <td>NaN</td>\n",
       "    </tr>\n",
       "    <tr>\n",
       "      <th>Senator’s X account removed – as it happened [2024-04-23T07:42:37Z]</th>\n",
       "      <td>[bst, government, updated, australia, australi...</td>\n",
       "      <td>[bst, musk, updated, elon, esafety, government...</td>\n",
       "      <td>NaN</td>\n",
       "    </tr>\n",
       "    <tr>\n",
       "      <th>Aurora australis offers second chance of ‘bloody awesome’ southern lights display on Sunday [2024-05-12T06:35:20Z]</th>\n",
       "      <td>[night, bom, lights, parts, storm, chance, sou...</td>\n",
       "      <td>[lights, bom, storm, cloud, visible, night, ch...</td>\n",
       "      <td>NaN</td>\n",
       "    </tr>\n",
       "    <tr>\n",
       "      <th>Treasurer delivers budget speech – as it happened [2024-05-14T11:55:11Z]</th>\n",
       "      <td>[bst, budget, updated, government, says, chalm...</td>\n",
       "      <td>[bst, budget, updated, chalmers, says, governm...</td>\n",
       "      <td>NaN</td>\n",
       "    </tr>\n",
       "  </tbody>\n",
       "</table>\n",
       "<p>137 rows × 3 columns</p>\n",
       "</div>"
      ],
      "text/plain": [
       "                                                                                                count  \\\n",
       "You’ve heard of the placebo effect – but what’s...  [pain, effect, negative, treatment, experience...   \n",
       "Ukraine war briefing: Zelenskiy warns of dwindl...  [russian, ukraine, russia, saturday, forces, r...   \n",
       "On Anzac Day you’ll hear stories of courage and...  [australia, wars, anzac, politicians, defence,...   \n",
       "Ukraine war briefing: Three killed in second da...  [russia, ukraine, military, russian, minister,...   \n",
       "Ukraine war briefing: alarm over drone attack o...  [ukrainian, ukraine, russia, russian, attacks,...   \n",
       "...                                                                                               ...   \n",
       "Lawyers granted more time to consider appeal – ...  [bst, updated, australia, violence, women, gov...   \n",
       "Bonza urged to pay April wages; data breach exp...  [bst, updated, australia, women, violence, min...   \n",
       "Senator’s X account removed – as it happened [2...  [bst, government, updated, australia, australi...   \n",
       "Aurora australis offers second chance of ‘blood...  [night, bom, lights, parts, storm, chance, sou...   \n",
       "Treasurer delivers budget speech – as it happen...  [bst, budget, updated, government, says, chalm...   \n",
       "\n",
       "                                                                                                tfidf  \\\n",
       "You’ve heard of the placebo effect – but what’s...  [pain, negative, symptoms, effect, heat, treat...   \n",
       "Ukraine war briefing: Zelenskiy warns of dwindl...  [russian, ukraine, saturday, syrskyi, fico, sl...   \n",
       "On Anzac Day you’ll hear stories of courage and...  [anzac, wars, dates, australia, suicide, coura...   \n",
       "Ukraine war briefing: Three killed in second da...  [russia, ukraine, reactor, attacks, russian, z...   \n",
       "Ukraine war briefing: alarm over drone attack o...  [ukrainian, ukraine, nuclear, russia, russian,...   \n",
       "...                                                                                               ...   \n",
       "Lawyers granted more time to consider appeal – ...  [bst, faruqi, hanson, updated, violence, women...   \n",
       "Bonza urged to pay April wages; data breach exp...  [bst, updated, bonza, women, violence, adminis...   \n",
       "Senator’s X account removed – as it happened [2...  [bst, musk, updated, elon, esafety, government...   \n",
       "Aurora australis offers second chance of ‘blood...  [lights, bom, storm, cloud, visible, night, ch...   \n",
       "Treasurer delivers budget speech – as it happen...  [bst, budget, updated, chalmers, says, governm...   \n",
       "\n",
       "                                                    lda  \n",
       "You’ve heard of the placebo effect – but what’s...  NaN  \n",
       "Ukraine war briefing: Zelenskiy warns of dwindl...  NaN  \n",
       "On Anzac Day you’ll hear stories of courage and...  NaN  \n",
       "Ukraine war briefing: Three killed in second da...  NaN  \n",
       "Ukraine war briefing: alarm over drone attack o...  NaN  \n",
       "...                                                 ...  \n",
       "Lawyers granted more time to consider appeal – ...  NaN  \n",
       "Bonza urged to pay April wages; data breach exp...  NaN  \n",
       "Senator’s X account removed – as it happened [2...  NaN  \n",
       "Aurora australis offers second chance of ‘blood...  NaN  \n",
       "Treasurer delivers budget speech – as it happen...  NaN  \n",
       "\n",
       "[137 rows x 3 columns]"
      ]
     },
     "execution_count": 9,
     "metadata": {},
     "output_type": "execute_result"
    }
   ],
   "source": [
    "# Only count terms that in maximum of 75% of documents, and a minimum of 2 documents. \n",
    "# Count a maximum of 10000 terms, and remove common english stop words\n",
    "tfidf_vectorizer = TfidfVectorizer(\n",
    "    max_df=0.75, min_df=2, max_features=10000, stop_words=\"english\"\n",
    ")\n",
    "tfidf_dt_matrix = tfidf_vectorizer.fit_transform(articles.values())\n",
    "tfidf_df = pd.DataFrame(tfidf_dt_matrix.toarray(), index=articles.keys(), columns=tfidf_vectorizer.get_feature_names_out())\n",
    "for idx in terms_df.index:\n",
    "    tfidf = dict(tfidf_df.loc[idx].sort_values(ascending=False).head(10))\n",
    "    #print(counts)\n",
    "    terms_df.at[idx,'tfidf'] = list(tfidf.keys()) \n",
    "\n",
    "terms_df"
   ]
  },
  {
   "cell_type": "markdown",
   "id": "8993d62b-0adc-4038-9849-fc572cabe384",
   "metadata": {},
   "source": [
    "*TF-IDF helps analyze government documents by prioritizing informative words. It considers both a word's frequency within a document and its rarity across all documents, focusing on what's unique and relevant to each government text.*\n",
    "\n",
    "*There are few things we should keep in mind while doing this calculation*\n",
    "\n",
    "**Bias:** *Watch for skewed data sets or manipulative language in government documents. TF-IDF might reflect these biases.*\n",
    "\n",
    "**Privacy:** *Ensure anonymity for any sensitive information before analysis.*\n",
    "\n",
    "**Context:** *Don't misinterpret word importance without considering the context of their use.*\n",
    "\n",
    "**Transparency:** *Be clear about data sources and methodology to avoid misleading interpretations.*"
   ]
  },
  {
   "cell_type": "markdown",
   "id": "398531fa-fa9f-4a23-8999-2481a8fba91c",
   "metadata": {},
   "source": [
    "------------------------------------------------------------------------------------------------------"
   ]
  },
  {
   "cell_type": "markdown",
   "id": "ffd44108-7389-4374-b116-1be5ad0c4e8b",
   "metadata": {},
   "source": [
    "*The below code provides a glimpse into a random selection of government documents, showcasing the top count words and top TF-IDF words associated with each document.*"
   ]
  },
  {
   "cell_type": "code",
   "execution_count": 10,
   "id": "a40ece77-cf8b-45f0-865f-6f39818362b3",
   "metadata": {},
   "outputs": [
    {
     "name": "stdout",
     "output_type": "stream",
     "text": [
      "[43] Ukraine war briefing: Russian drone strike injures three and sparks fire in Kharkiv  [2024-05-04T02:48:46Z]\n",
      "\t- Counts:\t ['russian', 'ukraine', 'russia', 'ukrainian', 'year', 'ministry', 'defence', 'foreign', 'friday', 'forces']\n",
      "\t- TFIDF:\t ['russian', 'ukraine', 'russia', 'cyber', 'ukrainian', 'ministry', 'friday', 'defence', 'foreign', 'crimean']\n",
      "\n",
      "[128] Price, speed and Elon Musk: why some Australians are ditching the NBN [2024-05-11T20:00:37Z]\n",
      "\t- Counts:\t ['nbn', 'customers', '000', 'internet', 'australia', 'company', 'plan', 'premises', 'starlink', 'speed']\n",
      "\t- TFIDF:\t ['nbn', 'customers', 'internet', 'starlink', 'premises', '000', 'connections', 'speed', 'mobile', 'company']\n",
      "\n",
      "[102] I’m no stranger to having work banned. If you want to protect kids, this is not the way to do it | Maya Newell [2024-05-10T03:31:27Z]\n",
      "\t- Counts:\t ['families', 'children', 'books', 'queer', 'kids', 'place', 'libraries', 'world', 'ban', 'violence']\n",
      "\t- TFIDF:\t ['books', 'queer', 'families', 'children', 'kids', 'libraries', 'film', 'baby', 'banning', 'playbook']\n",
      "\n",
      "[98] Bettina Arndt passed hat around for accommodation, cash and new friends for Bruce Lehrmann  | The Weekly Beast [2024-05-10T02:50:08Z]\n",
      "\t- Counts:\t ['news', 'abc', 'media', 'week', 'lehrmann', 'images', 'channel', 'new', 'google', 'australian']\n",
      "\t- TFIDF:\t ['abc', 'news', 'lehrmann', 'media', 'oliver', 'google', 'channel', 'partnership', 'taylor', 'stefanovic']\n",
      "\n",
      "[11] Ukraine war briefing: France tells China – speak clearly to Russia about the war [2024-04-01T00:11:30Z]\n",
      "\t- Counts:\t ['russian', 'ukraine', 'russia', 'regional', 'region', 'sunday', 'ukrainian', 'attacks', 'killed', 'military']\n",
      "\t- TFIDF:\t ['russian', 'regional', 'russia', 'ukraine', 'sunday', 'lviv', 'frontlines', 'region', 'ukrainian', 'attacks']\n",
      "\n",
      "[51] Ukraine war briefing: 15 killed in Belgorod after Ukrainian missile shot down, officials say [2024-05-13T03:08:51Z]\n",
      "\t- Counts:\t ['russian', 'ukraine', 'sunday', 'region', 'russia', 'kharkiv', 'forces', 'military', 'battles', 'infantry']\n",
      "\t- TFIDF:\t ['russian', 'battles', 'sunday', 'kharkiv', 'infantry', 'ukraine', 'shoigu', 'region', 'vovchansk', 'russia']\n",
      "\n",
      "[52] Ukraine war briefing: Don’t stockpile your Patriots, put Ukrainian needs first, allies told [2024-04-18T00:03:49Z]\n",
      "\t- Counts:\t ['ukraine', 'russia', 'thank', 'russian', 'send', 'wednesday', 'zelenskiy', 'systems', 'eu', 'patriot']\n",
      "\t- TFIDF:\t ['ukraine', 'thank', 'russia', 'patriot', 'eu', 'russian', 'agents', 'olaf', 'scholz', 'systems']\n",
      "\n",
      "[49] Ukraine war briefing: Russia making gains from slow western aid, says Nato chief  [2024-04-30T08:51:36Z]\n",
      "\t- Counts:\t ['ukraine', 'russia', 'russian', 'north', 'missile', 'ukrainian', 'ballistic', 'accused', 'city', 'possible']\n",
      "\t- TFIDF:\t ['ukraine', 'ballistic', 'russia', 'russian', 'missile', 'ukrainian', 'north', 'korea', 'sophie', 'programmes']\n",
      "\n",
      "[81] Middle East crisis: UN human rights council to consider call for Israel arms embargo – as it happened [2024-04-03T14:18:03Z]\n",
      "\t- Counts:\t ['israel', 'gaza', 'aid', 'killed', 'israeli', 'workers', 'minister', 'bst', 'netanyahu', 'investigation']\n",
      "\t- TFIDF:\t ['gaza', 'israel', 'aid', 'workers', 'israeli', 'killed', 'bst', 'netanyahu', 'airstrike', 'investigation']\n",
      "\n",
      "[28] Ukraine war briefing: Kyiv was 9 May terror target, says SBU [2024-05-12T00:58:38Z]\n",
      "\t- Counts:\t ['russia', 'ukraine', 'ukrainian', 'russian', 'region', 'border', 'minister', 'security', 'attack', 'prime']\n",
      "\t- TFIDF:\t ['ukrainian', 'russia', 'ukraine', 'russian', 'tusk', 'frontier', 'sbu', 'sumy', 'border', 'region']\n",
      "\n"
     ]
    }
   ],
   "source": [
    "# Sample 5 random articles\n",
    "samples = random.sample(range(0,len(terms_df)),10)\n",
    "\n",
    "for sample in samples:\n",
    "    doc = terms_df.iloc[sample]\n",
    "    print(f\"[{sample}] {doc.name}\")\n",
    "    print(\"\\t- Counts:\\t\",doc['count'])\n",
    "    print(\"\\t- TFIDF:\\t\",doc['tfidf'])\n",
    "    print()"
   ]
  },
  {
   "cell_type": "markdown",
   "id": "99a27043-caf6-47db-8675-24f9a1d15d38",
   "metadata": {},
   "source": [
    "*What can we understand from the above comparision??*\n",
    "\n",
    "#### Let's take one set of comparision only\n",
    "\n",
    "**Focus on Key Differences:**\n",
    "\n",
    "**Focus on Ukraine and Russia:** *While both methods identify \"Ukraine\" and \"Russia\" as important, TF-IDF assigns a higher weight to \"Ukraine\" compared to \"counts.\" This suggests the document might place a stronger emphasis on the Ukrainian perspective or actions.*\n",
    "\n",
    "**Specificity in TF-IDF:** *TF-IDF highlights words like \"nuclear,\" \"asylum,\" and \"dangerously,\" indicating a focus on the severity and potential consequences of attacks on the nuclear plant. \"Senate\" and \"house\" might suggest discussions about political responses.*\n",
    "\n",
    "**Possible Interpretation:**\n",
    "\n",
    "*Based on this comparison, we can infer that the document likely focuses on the Ukrainian perspective regarding the attacks on the nuclear plant and emphasizes the seriousness and potential dangers of the situation. Additionally, it might touch upon potential political responses being discussed in the US Senate and House.*\n",
    "\n",
    "#### Challenges??\n",
    "*This is just a single document, and a broader analysis is needed for definitive conclusions.*\n",
    "\n",
    "*Word choice by the author can influence both counts and TF-IDF scores.*"
   ]
  },
  {
   "cell_type": "markdown",
   "id": "5745719d-a8f8-43b6-af6f-0816c1aaaa84",
   "metadata": {},
   "source": [
    "----------------------------------------------------------------------------------------------------------"
   ]
  },
  {
   "cell_type": "markdown",
   "id": "ed652498-cde1-466e-ba54-629042b634a7",
   "metadata": {},
   "source": [
    "##                                    LDA ( Latent Dirichlet Allocation)\n",
    "*LDA is a technique for topic modeling in text analysis. Imagine a collection of documents like a bowl of mixed-up fruit. LDA helps separate the fruits by identifying hidden themes.*\n",
    "\n",
    "*Here's how it works:*\n",
    "\n",
    "**Topics as Fruits:** *LDA assumes each document discusses a mix of underlying topics, like different fruits in a salad.*\n",
    "\n",
    "**Words as Clues:** *Words in the documents act as clues to these topics. The more a word appears in a topic, the stronger the connection.*\n",
    "\n",
    "**Finding the Mix:** *LDA analyzes word usage patterns to figure out the best way to represent each document as a combination of these topics.*\n",
    "\n",
    "**Uncovering Themes:** *By looking at the most prominent words in each topic, we can understand the underlying themes discussed in the documents.*\n",
    "\n",
    "**LDA helps us discover hidden thematic structures within large collections of text data.**"
   ]
  },
  {
   "cell_type": "markdown",
   "id": "33432561-3492-4154-bad0-4fcba6eb0655",
   "metadata": {},
   "source": [
    "------------------------------------------------------------------------------------------------------"
   ]
  },
  {
   "cell_type": "markdown",
   "id": "3088482a-c5b9-444e-9b4e-4069c97d79e3",
   "metadata": {},
   "source": [
    "\n",
    "*Next set of codes essentially lets you discover the underlying topics in your government documents and see which words are most characteristic of each topic.*"
   ]
  },
  {
   "cell_type": "code",
   "execution_count": 11,
   "id": "f0e5e470-0a4d-4ad4-9f91-1c253db70d58",
   "metadata": {},
   "outputs": [
    {
     "name": "stdout",
     "output_type": "stream",
     "text": [
      "{'gaza': 1.7239001200542905, 'israel': 1.3115061277581261, 'ukraine': 1.2529476395322445, 'military': 1.2394037200439185, 'russian': 1.1779489144327044, 'israeli': 1.1632789885802477, 'bst': 1.0700077661041674, 'russia': 0.8269796877740155, 'minister': 0.7366962882814067, 'rafah': 0.7224238351598641}\n",
      "{'crawford': 8.604722974861406, 'pain': 5.856502844640179, 'gaza': 2.5321996204684565, 'treatment': 2.416684703768303, 'vcat': 2.414943193216823, 'intensity': 2.3951101826360635, 'homophobic': 2.3843371340130326, 'israel': 1.9986060546005362, 'nouméa': 1.9786615352453885, 'symptoms': 1.9353051740383957}\n",
      "{'israel': 613.3210663979306, 'gaza': 595.6837569023509, 'israeli': 454.7424997598462, 'aid': 270.1916245346434, 'killed': 202.84304061409813, 'hamas': 194.58723487301745, 'rafah': 188.07635841646763, 'military': 187.96016055847582, 'bst': 139.3271527230996, 'humanitarian': 135.55906755711595}\n",
      "{'battlefield': 1.508800261187288, 'suicide': 1.4123664394878672, 'bst': 1.2034609869615553, 'equate': 1.0428322681505882, 'nationalism': 1.0337739770456964, 'commemoration': 1.0285479826461439, 'continental': 1.0221296206889134, 'machine': 1.0174293189800145, 'rarely': 0.9880806283059548, 'dates': 0.9835282744662855}\n",
      "{'israeli': 1.1207669555915845, 'gaza': 1.0699368942893372, 'bst': 0.9910730247276746, 'israel': 0.9284771792511439, 'rafah': 0.538259621028845, 'updated': 0.5232094646106121, 'killed': 0.5177621094291729, 'aid': 0.48885136623149744, 'government': 0.4830463255942728, 'russian': 0.47845125077868167}\n",
      "{'bst': 6612.940253099722, 'updated': 3082.8004145873574, 'government': 2978.499704024039, 'budget': 2229.07137821036, 'australia': 2118.4434153234406, 'says': 2055.836140427005, 'australian': 1377.6870566175526, 'minister': 1355.9404042691085, 'new': 1172.6099753058147, 'year': 1167.3717307777479}\n",
      "{'bst': 1.7851366197949934, 'gaza': 1.1612967283862359, 'israel': 1.1139303269671967, 'israeli': 0.8633521885246079, 'aid': 0.8534995644160851, 'australia': 0.8184605049170841, 'government': 0.798547532772066, 'updated': 0.7148508290966781, 'minister': 0.6368013789301946, 'ukraine': 0.6245884850167799}\n",
      "{'bst': 0.6386809806802456, 'gaza': 0.3832080628643037, 'australia': 0.3602798492962802, 'israel': 0.31264551978100685, 'police': 0.30702225019885354, 'government': 0.2666023014954421, 'updated': 0.25328368495938286, 'israeli': 0.24702688804241904, 'ukraine': 0.2455304209769971, 'russian': 0.24105774714789416}\n",
      "{'ratnam': 5.403233891126539, 'seat': 4.581319432604827, 'redistribution': 3.201352605141707, 'wills': 3.148576426294572, 'electorate': 3.0785101560243615, 'candidate': 2.661734988282238, 'khalil': 2.3818313309762016, 'israel': 1.818582810641603, 'coburg': 1.7985970842104786, 'margin': 1.793202853988621}\n",
      "{'junior': 3.5274906772669925, 'unpaid': 1.315855865085838, 'bst': 0.9445452571538907, 'israel': 0.8377554274007493, 'updated': 0.6694663999526038, 'government': 0.5909847376635272, 'ranjana': 0.5725194036409947, 'unpredictable': 0.5657892613120193, 'srivastava': 0.5650560347708613, 'plaintiff': 0.56494618795964}\n",
      "{'bst': 1099.1582955962283, 'updated': 454.05608597713194, 'australia': 370.78916518332994, 'minister': 268.0321819185616, 'government': 255.0203359192904, 'women': 250.91548221261183, 'police': 240.41380872008637, 'violence': 232.69495975867397, 'says': 214.66396780484038, 'health': 211.27193401052543}\n",
      "{'auerbach': 2.408283241211416, 'fiji': 1.9480596596195094, 'checking': 1.9304764937180199, 'roberts': 1.8788378916580555, 'rmit': 1.873001403704011, 'journalism': 1.7074707800021975, 'gaza': 1.6308907981276393, 'seven': 1.600083763005812, 'smith': 1.5788695062040934, 'bst': 1.5585521245101144}\n",
      "{'marshall': 7.565736118248419, 'islands': 5.406702348889866, 'bombs': 5.216540686537741, 'unexploded': 4.782132793445268, 'ordnance': 3.357772502030911, 'golden': 2.251476551580492, 'israel': 2.1003228951188695, 'csiro': 1.9527232059275417, 'team': 1.8431455332085933, 'bst': 1.6541805124323563}\n",
      "{'cooper': 1.9782586522766175, 'bst': 1.7840749824325257, 'mccarthy': 1.441847380511905, 'distinguished': 1.0025392838335256, 'australia': 0.9520915955234167, 'incoming': 0.9219695983410553, 'keating': 0.9122009372366028, 'updated': 0.7587085688433527, 'government': 0.7314542987029413, '1953': 0.5828662788463344}\n",
      "{'bst': 0.743967319588091, 'government': 0.4831857368686085, 'updated': 0.3825293974055192, 'minister': 0.3617581248612941, 'australia': 0.29758270081904215, 'state': 0.2943585290422733, 'australian': 0.27242541362937256, 'police': 0.27017336693663185, 'israel': 0.2657059046760585, 'gaza': 0.26020940095606576}\n",
      "{'providers': 7.847641259530362, 'jobseekers': 6.1187313013386495, 'redress': 5.762404271974122, 'provider': 5.21884128293604, 'tribunal': 3.669932653904449, 'bst': 2.6373797336751514, 'tribunals': 2.4019660723957688, 'employment': 2.327130262005963, 'rwandan': 2.226823501662853, 'rwanda': 2.205835360551299}\n",
      "{'mulch': 6.6752316427596705, 'asbestos': 4.687977659482296, 'philippine': 3.3180875853639455, 'bst': 2.2131484817436364, 'husband': 2.0366585275749194, 'playground': 1.9679110427979734, 'epa': 1.9005199924648888, 'material': 1.8838180152806658, 'drills': 1.870710208777293, 'garden': 1.749192768090779}\n",
      "{'ukraine': 267.79743420816146, 'russian': 213.5298203525727, 'russia': 187.74714036240758, 'ukrainian': 123.40168845466006, 'region': 82.97004417693164, 'military': 79.67938390453996, 'defence': 67.75992312318245, 'attack': 53.18741834451789, 'forces': 51.24578714147487, 'president': 49.59038549691006}\n",
      "{'vcat': 4.587726644001562, 'books': 3.7105148364062153, 'queer': 3.39727189483022, 'libraries': 1.7615692322565828, 'film': 1.488755650941681, 'playbook': 1.0624859073841684, 'concept': 0.8559725269086211, 'fringe': 0.8288666700328073, 'banned': 0.7464451866142744, 'village': 0.7114234899015346}\n",
      "{'husic': 8.474943825832991, 'kindness': 2.7137732760421747, 'podcast': 2.063114564270015, 'surgeon': 2.0130603345872524, 'medicine': 1.5946773737338038, 'surgical': 1.5210955345448103, 'productivity': 1.5187469861690248, 'srivastava': 1.5085427416780113, 'ranjana': 1.5036552075175764, 'bst': 1.368068693597895}\n",
      "topic_0\n",
      "{'gaza': 1.7239, 'israel': 1.3115, 'ukraine': 1.2529, 'military': 1.2394, 'russian': 1.1779, 'israeli': 1.1633, 'bst': 1.07, 'russia': 0.827, 'minister': 0.7367, 'rafah': 0.7224}\n",
      "\n",
      "topic_1\n",
      "{'crawford': 8.6047, 'pain': 5.8565, 'gaza': 2.5322, 'treatment': 2.4167, 'vcat': 2.4149, 'intensity': 2.3951, 'homophobic': 2.3843, 'israel': 1.9986, 'nouméa': 1.9787, 'symptoms': 1.9353}\n",
      "\n",
      "topic_2\n",
      "{'israel': 613.3211, 'gaza': 595.6838, 'israeli': 454.7425, 'aid': 270.1916, 'killed': 202.843, 'hamas': 194.5872, 'rafah': 188.0764, 'military': 187.9602, 'bst': 139.3272, 'humanitarian': 135.5591}\n",
      "\n",
      "topic_3\n",
      "{'battlefield': 1.5088, 'suicide': 1.4124, 'bst': 1.2035, 'equate': 1.0428, 'nationalism': 1.0338, 'commemoration': 1.0285, 'continental': 1.0221, 'machine': 1.0174, 'rarely': 0.9881, 'dates': 0.9835}\n",
      "\n",
      "topic_4\n",
      "{'israeli': 1.1208, 'gaza': 1.0699, 'bst': 0.9911, 'israel': 0.9285, 'rafah': 0.5383, 'updated': 0.5232, 'killed': 0.5178, 'aid': 0.4889, 'government': 0.483, 'russian': 0.4785}\n",
      "\n",
      "topic_5\n",
      "{'bst': 6612.9403, 'updated': 3082.8004, 'government': 2978.4997, 'budget': 2229.0714, 'australia': 2118.4434, 'says': 2055.8361, 'australian': 1377.6871, 'minister': 1355.9404, 'new': 1172.61, 'year': 1167.3717}\n",
      "\n",
      "topic_6\n",
      "{'bst': 1.7851, 'gaza': 1.1613, 'israel': 1.1139, 'israeli': 0.8634, 'aid': 0.8535, 'australia': 0.8185, 'government': 0.7985, 'updated': 0.7149, 'minister': 0.6368, 'ukraine': 0.6246}\n",
      "\n",
      "topic_7\n",
      "{'bst': 0.6387, 'gaza': 0.3832, 'australia': 0.3603, 'israel': 0.3126, 'police': 0.307, 'government': 0.2666, 'updated': 0.2533, 'israeli': 0.247, 'ukraine': 0.2455, 'russian': 0.2411}\n",
      "\n",
      "topic_8\n",
      "{'ratnam': 5.4032, 'seat': 4.5813, 'redistribution': 3.2014, 'wills': 3.1486, 'electorate': 3.0785, 'candidate': 2.6617, 'khalil': 2.3818, 'israel': 1.8186, 'coburg': 1.7986, 'margin': 1.7932}\n",
      "\n",
      "topic_9\n",
      "{'junior': 3.5275, 'unpaid': 1.3159, 'bst': 0.9445, 'israel': 0.8378, 'updated': 0.6695, 'government': 0.591, 'ranjana': 0.5725, 'unpredictable': 0.5658, 'srivastava': 0.5651, 'plaintiff': 0.5649}\n",
      "\n",
      "topic_10\n",
      "{'bst': 1099.1583, 'updated': 454.0561, 'australia': 370.7892, 'minister': 268.0322, 'government': 255.0203, 'women': 250.9155, 'police': 240.4138, 'violence': 232.695, 'says': 214.664, 'health': 211.2719}\n",
      "\n",
      "topic_11\n",
      "{'auerbach': 2.4083, 'fiji': 1.9481, 'checking': 1.9305, 'roberts': 1.8788, 'rmit': 1.873, 'journalism': 1.7075, 'gaza': 1.6309, 'seven': 1.6001, 'smith': 1.5789, 'bst': 1.5586}\n",
      "\n",
      "topic_12\n",
      "{'marshall': 7.5657, 'islands': 5.4067, 'bombs': 5.2165, 'unexploded': 4.7821, 'ordnance': 3.3578, 'golden': 2.2515, 'israel': 2.1003, 'csiro': 1.9527, 'team': 1.8431, 'bst': 1.6542}\n",
      "\n",
      "topic_13\n",
      "{'cooper': 1.9783, 'bst': 1.7841, 'mccarthy': 1.4418, 'distinguished': 1.0025, 'australia': 0.9521, 'incoming': 0.922, 'keating': 0.9122, 'updated': 0.7587, 'government': 0.7315, '1953': 0.5829}\n",
      "\n",
      "topic_14\n",
      "{'bst': 0.744, 'government': 0.4832, 'updated': 0.3825, 'minister': 0.3618, 'australia': 0.2976, 'state': 0.2944, 'australian': 0.2724, 'police': 0.2702, 'israel': 0.2657, 'gaza': 0.2602}\n",
      "\n",
      "topic_15\n",
      "{'providers': 7.8476, 'jobseekers': 6.1187, 'redress': 5.7624, 'provider': 5.2188, 'tribunal': 3.6699, 'bst': 2.6374, 'tribunals': 2.402, 'employment': 2.3271, 'rwandan': 2.2268, 'rwanda': 2.2058}\n",
      "\n",
      "topic_16\n",
      "{'mulch': 6.6752, 'asbestos': 4.688, 'philippine': 3.3181, 'bst': 2.2131, 'husband': 2.0367, 'playground': 1.9679, 'epa': 1.9005, 'material': 1.8838, 'drills': 1.8707, 'garden': 1.7492}\n",
      "\n",
      "topic_17\n",
      "{'ukraine': 267.7974, 'russian': 213.5298, 'russia': 187.7471, 'ukrainian': 123.4017, 'region': 82.97, 'military': 79.6794, 'defence': 67.7599, 'attack': 53.1874, 'forces': 51.2458, 'president': 49.5904}\n",
      "\n",
      "topic_18\n",
      "{'vcat': 4.5877, 'books': 3.7105, 'queer': 3.3973, 'libraries': 1.7616, 'film': 1.4888, 'playbook': 1.0625, 'concept': 0.856, 'fringe': 0.8289, 'banned': 0.7464, 'village': 0.7114}\n",
      "\n",
      "topic_19\n",
      "{'husic': 8.4749, 'kindness': 2.7138, 'podcast': 2.0631, 'surgeon': 2.0131, 'medicine': 1.5947, 'surgical': 1.5211, 'productivity': 1.5187, 'srivastava': 1.5085, 'ranjana': 1.5037, 'bst': 1.3681}\n",
      "\n"
     ]
    }
   ],
   "source": [
    "# Set number of topics\n",
    "num_topics = 20\n",
    "# Set max number of iteractions\n",
    "max_iterations = 10\n",
    "\n",
    "# Create the model\n",
    "lda_model = LatentDirichletAllocation(n_components=num_topics,max_iter=max_iterations,learning_method='online')\n",
    "\n",
    "# Fit the model to the data, and use the model to transform the data (do the decomposition)\n",
    "doc_topic_matrix = lda_model.fit_transform(count_dt_matrix)\n",
    "\n",
    "# Obtain the topics\n",
    "topic_term_matrix = lda_model.components_\n",
    "\n",
    "# Get the topics and their terms\n",
    "lda_topic_dict = {}\n",
    "for index, topic in enumerate(topic_term_matrix):\n",
    "    zipped = zip(feature_names, topic)\n",
    "    top_terms=dict(sorted(zipped, key = lambda t: t[1], reverse=True)[:10])\n",
    "    print(top_terms)\n",
    "    top_terms_list= {key : round(top_terms[key], 4) for key in top_terms.keys()}\n",
    "    lda_topic_dict[f\"topic_{index}\"] = top_terms_list\n",
    "\n",
    "# Print the topics with their terms    \n",
    "for k,v in lda_topic_dict.items():\n",
    "    print(k)\n",
    "    print(v)\n",
    "    print()\n"
   ]
  },
  {
   "cell_type": "markdown",
   "id": "72734d13-af97-4561-bdeb-d2c4b0d656e7",
   "metadata": {},
   "source": [
    "**What can be drawn from the above analysis??**\n",
    "\n",
    "#### Let's just take one topic\n",
    "\n",
    "**Possible Theme:**  *This topic likely focuses on the human cost of war and conflict, particularly related to veterans. Here's how the keywords suggest this:*\n",
    "\n",
    "**Veterans' struggles:** *Words like \"vcat\", \"martial\", \"battlefield\", and \"suicide\" hint at potential issues faced by veterans, possibly including post-traumatic stress disorder (PTSD) and suicidal ideation.*\n",
    "\n",
    "**Nationalism and War:** *\"Nationalism\" and \"battlefield\" suggest a connection between war and national identity.\n",
    "Forgotten Veterans: \"Forgotten\" indicates a potential theme of veterans being neglected or their sacrifices under-appreciated.*\n",
    "\n",
    "**Unclear Terms:** *\"Newsletters\", \"bst\" (possibly an abbreviation we lack context for), and \"Nesrine\" (a name) are less clear in this context and might require further investigation.*\n",
    "\n",
    "\n",
    "\n",
    "#### **Challenges?**\n",
    "\n",
    "*With only 10 words, a definitive interpretation is challenging.*\n",
    "\n",
    "*The specific meaning of \"vcat\" and \"bst\" depends on the context of the documents.*"
   ]
  },
  {
   "cell_type": "markdown",
   "id": "7b4bb992-5486-4bc0-8506-5e4995b9140f",
   "metadata": {},
   "source": [
    "-------------------------------------------------------------------------------------------------------------"
   ]
  },
  {
   "cell_type": "markdown",
   "id": "76fc4614-1762-43fe-acbe-1acba380a79b",
   "metadata": {},
   "source": [
    "*doc_topic_matrix[0] refers to the first row of the matrix. This row represents the probability distribution of the first document in your collection across the 20 potential topics identified by LDA.*"
   ]
  },
  {
   "cell_type": "code",
   "execution_count": 12,
   "id": "a99adfa8-f049-4079-be2b-03ef9b4053c9",
   "metadata": {},
   "outputs": [
    {
     "data": {
      "text/plain": [
       "array([1.35869565e-04, 2.61549416e-01, 1.35869568e-04, 1.35869565e-04,\n",
       "       1.35869565e-04, 4.40553285e-01, 1.35869565e-04, 1.35869565e-04,\n",
       "       1.35869565e-04, 1.35869565e-04, 2.95587517e-01, 1.35869565e-04,\n",
       "       1.35869565e-04, 1.35869565e-04, 1.35869565e-04, 1.35869565e-04,\n",
       "       1.35869565e-04, 1.35869567e-04, 1.35869565e-04, 1.35869565e-04])"
      ]
     },
     "execution_count": 12,
     "metadata": {},
     "output_type": "execute_result"
    }
   ],
   "source": [
    "doc_topic_matrix[0]"
   ]
  },
  {
   "cell_type": "markdown",
   "id": "f759b436-1ffd-4f68-a414-7743dc51fde9",
   "metadata": {},
   "source": [
    "*This array represents the probability distribution of a document across 20 potential topics identified by Latent Dirichlet Allocation (LDA). Here's a breakdown of the key points:*\n",
    "\n",
    "**Values:** *The numbers represent probabilities between 0 and 1. They indicate how likely the document is to be associated with each of the 20 topics.*\n",
    "\n",
    "**Higher value, Higher likelihood:** *A higher value in a specific column suggests the document has a stronger connection to the corresponding topic (represented by the column index).*\n",
    "\n",
    "**Focus on the highest value:** *In this case, the highest value is 2.658 located at the second column (index 1). This indicates the document has the strongest association with topic number 2.*"
   ]
  },
  {
   "cell_type": "markdown",
   "id": "35efdd94-ab3e-45dc-83fc-1bd5db2c5736",
   "metadata": {},
   "source": [
    "---------------------------------------------------------------------------------------------------------------"
   ]
  },
  {
   "cell_type": "markdown",
   "id": "11211941-9afc-444e-b14e-6a7120efa660",
   "metadata": {},
   "source": [
    "*This code enriches your terms_df by adding a new column named 'lda'. This column associates each document with the most likely topic (based on LDA analysis) along with the keywords most representative of that topic. This can be helpful for further exploration and topic-based analysis of your government documents.*"
   ]
  },
  {
   "cell_type": "code",
   "execution_count": 13,
   "id": "9c1d60a1-0de9-42c9-b803-7c8fcf9c498f",
   "metadata": {},
   "outputs": [
    {
     "name": "stderr",
     "output_type": "stream",
     "text": [
      "/tmp/ipykernel_465/1510898733.py:4: FutureWarning: ChainedAssignmentError: behaviour will change in pandas 3.0!\n",
      "You are setting values through chained assignment. Currently this works in certain cases, but when using Copy-on-Write (which will become the default behaviour in pandas 3.0) this will never work to update the original DataFrame or Series, because the intermediate object on which we are setting values will behave as a copy.\n",
      "A typical example is when you are setting values in a column of a DataFrame, like:\n",
      "\n",
      "df[\"col\"][row_indexer] = value\n",
      "\n",
      "Use `df.loc[row_indexer, \"col\"] = values` instead, to perform the assignment in a single step and ensure this keeps updating the original `df`.\n",
      "\n",
      "See the caveats in the documentation: https://pandas.pydata.org/pandas-docs/stable/user_guide/indexing.html#returning-a-view-versus-a-copy\n",
      "\n",
      "  terms_df['lda'].iloc[idx] = list(top_topic.keys())\n"
     ]
    },
    {
     "data": {
      "text/html": [
       "<div>\n",
       "<style scoped>\n",
       "    .dataframe tbody tr th:only-of-type {\n",
       "        vertical-align: middle;\n",
       "    }\n",
       "\n",
       "    .dataframe tbody tr th {\n",
       "        vertical-align: top;\n",
       "    }\n",
       "\n",
       "    .dataframe thead th {\n",
       "        text-align: right;\n",
       "    }\n",
       "</style>\n",
       "<table border=\"1\" class=\"dataframe\">\n",
       "  <thead>\n",
       "    <tr style=\"text-align: right;\">\n",
       "      <th></th>\n",
       "      <th>count</th>\n",
       "      <th>tfidf</th>\n",
       "      <th>lda</th>\n",
       "    </tr>\n",
       "  </thead>\n",
       "  <tbody>\n",
       "    <tr>\n",
       "      <th>You’ve heard of the placebo effect – but what’s the nocebo effect? Is pain all in the mind? [2024-04-29T15:00:17Z]</th>\n",
       "      <td>[pain, effect, negative, treatment, experience...</td>\n",
       "      <td>[pain, negative, symptoms, effect, heat, treat...</td>\n",
       "      <td>[bst, updated, government, budget, australia, ...</td>\n",
       "    </tr>\n",
       "    <tr>\n",
       "      <th>Ukraine war briefing: Zelenskiy warns of dwindling weapons stockpile as attack on Kharkiv kills eight [2024-04-07T01:33:36Z]</th>\n",
       "      <td>[russian, ukraine, russia, saturday, forces, r...</td>\n",
       "      <td>[russian, ukraine, saturday, syrskyi, fico, sl...</td>\n",
       "      <td>[ukraine, russian, russia, ukrainian, region, ...</td>\n",
       "    </tr>\n",
       "    <tr>\n",
       "      <th>On Anzac Day you’ll hear stories of courage and mateship. It’s a way to rationalise war | Paul Daley [2024-04-24T15:00:15Z]</th>\n",
       "      <td>[australia, wars, anzac, politicians, defence,...</td>\n",
       "      <td>[anzac, wars, dates, australia, suicide, coura...</td>\n",
       "      <td>[bst, updated, government, budget, australia, ...</td>\n",
       "    </tr>\n",
       "    <tr>\n",
       "      <th>Ukraine war briefing: Three killed in second day of Russian attacks on Zaporizhzhia region, says governor [2024-04-09T01:27:44Z]</th>\n",
       "      <td>[russia, ukraine, military, russian, minister,...</td>\n",
       "      <td>[russia, ukraine, reactor, attacks, russian, z...</td>\n",
       "      <td>[ukraine, russian, russia, ukrainian, region, ...</td>\n",
       "    </tr>\n",
       "    <tr>\n",
       "      <th>Ukraine war briefing: alarm over drone attack on Zaporizhzhia power plant [2024-04-07T22:56:09Z]</th>\n",
       "      <td>[ukrainian, ukraine, russia, russian, attacks,...</td>\n",
       "      <td>[ukrainian, ukraine, nuclear, russia, russian,...</td>\n",
       "      <td>[ukraine, russian, russia, ukrainian, region, ...</td>\n",
       "    </tr>\n",
       "    <tr>\n",
       "      <th>...</th>\n",
       "      <td>...</td>\n",
       "      <td>...</td>\n",
       "      <td>...</td>\n",
       "    </tr>\n",
       "    <tr>\n",
       "      <th>Lawyers granted more time to consider appeal – as it happened [2024-05-01T07:51:25Z]</th>\n",
       "      <td>[bst, updated, australia, violence, women, gov...</td>\n",
       "      <td>[bst, faruqi, hanson, updated, violence, women...</td>\n",
       "      <td>[bst, updated, government, budget, australia, ...</td>\n",
       "    </tr>\n",
       "    <tr>\n",
       "      <th>Bonza urged to pay April wages; data breach exposes family violence, sexual assault data – as it happened [2024-05-03T07:52:26Z]</th>\n",
       "      <td>[bst, updated, australia, women, violence, min...</td>\n",
       "      <td>[bst, updated, bonza, women, violence, adminis...</td>\n",
       "      <td>[bst, updated, australia, minister, government...</td>\n",
       "    </tr>\n",
       "    <tr>\n",
       "      <th>Senator’s X account removed – as it happened [2024-04-23T07:42:37Z]</th>\n",
       "      <td>[bst, government, updated, australia, australi...</td>\n",
       "      <td>[bst, musk, updated, elon, esafety, government...</td>\n",
       "      <td>[bst, updated, government, budget, australia, ...</td>\n",
       "    </tr>\n",
       "    <tr>\n",
       "      <th>Aurora australis offers second chance of ‘bloody awesome’ southern lights display on Sunday [2024-05-12T06:35:20Z]</th>\n",
       "      <td>[night, bom, lights, parts, storm, chance, sou...</td>\n",
       "      <td>[lights, bom, storm, cloud, visible, night, ch...</td>\n",
       "      <td>[bst, updated, australia, minister, government...</td>\n",
       "    </tr>\n",
       "    <tr>\n",
       "      <th>Treasurer delivers budget speech – as it happened [2024-05-14T11:55:11Z]</th>\n",
       "      <td>[bst, budget, updated, government, says, chalm...</td>\n",
       "      <td>[bst, budget, updated, chalmers, says, governm...</td>\n",
       "      <td>[bst, updated, government, budget, australia, ...</td>\n",
       "    </tr>\n",
       "  </tbody>\n",
       "</table>\n",
       "<p>137 rows × 3 columns</p>\n",
       "</div>"
      ],
      "text/plain": [
       "                                                                                                count  \\\n",
       "You’ve heard of the placebo effect – but what’s...  [pain, effect, negative, treatment, experience...   \n",
       "Ukraine war briefing: Zelenskiy warns of dwindl...  [russian, ukraine, russia, saturday, forces, r...   \n",
       "On Anzac Day you’ll hear stories of courage and...  [australia, wars, anzac, politicians, defence,...   \n",
       "Ukraine war briefing: Three killed in second da...  [russia, ukraine, military, russian, minister,...   \n",
       "Ukraine war briefing: alarm over drone attack o...  [ukrainian, ukraine, russia, russian, attacks,...   \n",
       "...                                                                                               ...   \n",
       "Lawyers granted more time to consider appeal – ...  [bst, updated, australia, violence, women, gov...   \n",
       "Bonza urged to pay April wages; data breach exp...  [bst, updated, australia, women, violence, min...   \n",
       "Senator’s X account removed – as it happened [2...  [bst, government, updated, australia, australi...   \n",
       "Aurora australis offers second chance of ‘blood...  [night, bom, lights, parts, storm, chance, sou...   \n",
       "Treasurer delivers budget speech – as it happen...  [bst, budget, updated, government, says, chalm...   \n",
       "\n",
       "                                                                                                tfidf  \\\n",
       "You’ve heard of the placebo effect – but what’s...  [pain, negative, symptoms, effect, heat, treat...   \n",
       "Ukraine war briefing: Zelenskiy warns of dwindl...  [russian, ukraine, saturday, syrskyi, fico, sl...   \n",
       "On Anzac Day you’ll hear stories of courage and...  [anzac, wars, dates, australia, suicide, coura...   \n",
       "Ukraine war briefing: Three killed in second da...  [russia, ukraine, reactor, attacks, russian, z...   \n",
       "Ukraine war briefing: alarm over drone attack o...  [ukrainian, ukraine, nuclear, russia, russian,...   \n",
       "...                                                                                               ...   \n",
       "Lawyers granted more time to consider appeal – ...  [bst, faruqi, hanson, updated, violence, women...   \n",
       "Bonza urged to pay April wages; data breach exp...  [bst, updated, bonza, women, violence, adminis...   \n",
       "Senator’s X account removed – as it happened [2...  [bst, musk, updated, elon, esafety, government...   \n",
       "Aurora australis offers second chance of ‘blood...  [lights, bom, storm, cloud, visible, night, ch...   \n",
       "Treasurer delivers budget speech – as it happen...  [bst, budget, updated, chalmers, says, governm...   \n",
       "\n",
       "                                                                                                  lda  \n",
       "You’ve heard of the placebo effect – but what’s...  [bst, updated, government, budget, australia, ...  \n",
       "Ukraine war briefing: Zelenskiy warns of dwindl...  [ukraine, russian, russia, ukrainian, region, ...  \n",
       "On Anzac Day you’ll hear stories of courage and...  [bst, updated, government, budget, australia, ...  \n",
       "Ukraine war briefing: Three killed in second da...  [ukraine, russian, russia, ukrainian, region, ...  \n",
       "Ukraine war briefing: alarm over drone attack o...  [ukraine, russian, russia, ukrainian, region, ...  \n",
       "...                                                                                               ...  \n",
       "Lawyers granted more time to consider appeal – ...  [bst, updated, government, budget, australia, ...  \n",
       "Bonza urged to pay April wages; data breach exp...  [bst, updated, australia, minister, government...  \n",
       "Senator’s X account removed – as it happened [2...  [bst, updated, government, budget, australia, ...  \n",
       "Aurora australis offers second chance of ‘blood...  [bst, updated, australia, minister, government...  \n",
       "Treasurer delivers budget speech – as it happen...  [bst, updated, government, budget, australia, ...  \n",
       "\n",
       "[137 rows x 3 columns]"
      ]
     },
     "execution_count": 13,
     "metadata": {},
     "output_type": "execute_result"
    }
   ],
   "source": [
    "for idx,topic in enumerate(doc_topic_matrix):\n",
    "    topic_num = topic.argmax()\n",
    "    top_topic = lda_topic_dict[f\"topic_{topic_num}\"]\n",
    "    terms_df['lda'].iloc[idx] = list(top_topic.keys())\n",
    "\n",
    "terms_df"
   ]
  },
  {
   "cell_type": "markdown",
   "id": "49fd5b18-e2d3-43e1-9db3-9f2415069b17",
   "metadata": {},
   "source": [
    "*LDA is a machine learning technique which we have used here to do our analysis. By this step oru table is complete* "
   ]
  },
  {
   "cell_type": "markdown",
   "id": "2531a5ce-09b3-4dc1-bbea-b6584c60f4ee",
   "metadata": {},
   "source": [
    "------------------------------------------------------------------------------------------------------------"
   ]
  },
  {
   "cell_type": "markdown",
   "id": "ef166f0f-1f28-42ea-9452-cba84fdddc4c",
   "metadata": {},
   "source": [
    "#### K mean \n",
    "\n",
    "*K-means is a clustering algorithm, a type of unsupervised machine learning technique. Imagine you have a basket of mixed-up fruit, and you want to separate them into groups (apples, oranges, etc.) without anyone telling you what each fruit looks like. K-means helps you do this!*\n",
    "\n",
    "*K-means helps you automatically group similar data points together based on their features, making it a valuable tool for exploratory data analysis and uncovering hidden structures within your data!*"
   ]
  },
  {
   "cell_type": "markdown",
   "id": "403618bb-a10d-4855-b7f5-4cb7b6e0ce29",
   "metadata": {},
   "source": [
    "\n",
    "*This code applies a clustering technique called K-Means to the topic distribution matrix obtained from our LDA model.*"
   ]
  },
  {
   "cell_type": "code",
   "execution_count": 14,
   "id": "dcb305b0-75f1-4037-91e6-22f94cddca4b",
   "metadata": {},
   "outputs": [],
   "source": [
    "from sklearn.cluster import KMeans\n",
    "\n",
    "# Choose the number of clusters\n",
    "num_clusters = 5\n",
    "\n",
    "# Apply k-means clustering on the topic distribution matrix\n",
    "kmeans = KMeans(n_clusters=num_clusters, random_state=42)\n",
    "kmeans_clusters = kmeans.fit_predict(doc_topic_matrix)\n"
   ]
  },
  {
   "cell_type": "markdown",
   "id": "2e6bd967-cfb8-43c8-8b95-45dcf0a7164c",
   "metadata": {},
   "source": [
    "**Things to Remember:**\n",
    "\n",
    "*Choosing the optimal number of clusters (5 in this case) can be an iterative process. You might need to experiment with different values to find the best fit for your data.*\n",
    "\n",
    "*K-Means doesn't reveal the underlying themes of the clusters. You'll need to analyze the documents assigned to each cluster and the topics associated with those documents to understand what these clusters represent.*"
   ]
  },
  {
   "cell_type": "markdown",
   "id": "d8feebca-c5eb-458e-b282-593988643b73",
   "metadata": {},
   "source": [
    "# Visualisation"
   ]
  },
  {
   "cell_type": "code",
   "execution_count": 15,
   "id": "2f45c264-c934-41c7-af6e-5568769575c3",
   "metadata": {},
   "outputs": [
    {
     "data": {
      "image/png": "[encoded data removed]",
      "text/plain": [
       "<Figure size 1000x800 with 1 Axes>"
      ]
     },
     "metadata": {},
     "output_type": "display_data"
    }
   ],
   "source": [
    "from sklearn.decomposition import PCA\n",
    "import matplotlib.pyplot as plt\n",
    "\n",
    "pca = PCA(n_components=2)\n",
    "pca_result = pca.fit_transform(doc_topic_matrix)\n",
    "\n",
    "plt.figure(figsize=(10, 8))\n",
    "plt.scatter(pca_result[:, 0], pca_result[:, 1], c=kmeans_clusters)\n",
    "plt.title(\"K-means Clustering of LDA Topics\")\n",
    "plt.xlabel(\"PCA Component 1\")\n",
    "plt.ylabel(\"PCA Component 2\")\n",
    "plt.show()\n"
   ]
  },
  {
   "cell_type": "markdown",
   "id": "ffb33f9e-4fdc-433c-9c69-5f2d7391ac68",
   "metadata": {},
   "source": [
    "**Interpretation:**\n",
    "\n",
    "*Proximity in the plot suggests thematic similarity. Documents from the same cluster (similar color) likely discuss related topics based on the chosen LDA dimensions.*\n",
    "\n",
    "*Distance between clusters indicates thematic difference. The further apart clusters are, the less overlap there is between the topics covered by the documents within those clusters.*"
   ]
  },
  {
   "cell_type": "markdown",
   "id": "d6ecd128-e217-4c8c-ac20-31e9ece35d3f",
   "metadata": {},
   "source": [
    "\n",
    "*K-means clustering can be very relevant for analyzing government documents on various topics. Here are some ways it can be applied:*\n",
    "\n",
    "**Grouping Policy Areas:** *By applying K-means to the topic distributions of government documents, you might discover clusters that represent distinct policy areas like education, healthcare, or environmental protection. This can help organize and prioritize documents for further analysis.*\n",
    "\n",
    "**Identifying Similar Initiatives:**  *K-means can group documents discussing similar government initiatives or programs. This allows you to compare approaches, track progress, or analyze public discourse surrounding specific policy areas.*\n",
    "\n",
    "*and many more...*"
   ]
  },
  {
   "cell_type": "markdown",
   "id": "afb39224-2bf7-4659-b1a1-2e7718b4fe5f",
   "metadata": {},
   "source": [
    "-----------------------------------------------------------------------------------------------------------------"
   ]
  },
  {
   "cell_type": "markdown",
   "id": "dcce3441-3c79-4fd6-9dad-ff70322aa423",
   "metadata": {},
   "source": [
    "*The code stores the document-topic matrix (lda_topic_matrix) which holds the probability distribution of topics for each document. This allows you to explore how likely each document is to be associated with the various topics identified by LDA.*"
   ]
  },
  {
   "cell_type": "code",
   "execution_count": 16,
   "id": "4870d7ee-4b46-476b-a4cc-ebf4723ab35a",
   "metadata": {},
   "outputs": [],
   "source": [
    "from sklearn.decomposition import LatentDirichletAllocation\n",
    "\n",
    "# Assuming you have a document-term matrix named `count_dt_matrix`\n",
    "num_topics = 10  # Number of topics you want to extract\n",
    "lda_model = LatentDirichletAllocation(n_components=num_topics, max_iter=10, learning_method='online', random_state=42)\n",
    "lda_topic_matrix = lda_model.fit_transform(count_dt_matrix)\n"
   ]
  },
  {
   "cell_type": "markdown",
   "id": "53615055-a767-4934-924a-b96f8f9c4895",
   "metadata": {},
   "source": [
    "------------------------------------------------------------------------------------------------------"
   ]
  },
  {
   "cell_type": "markdown",
   "id": "05c1fff6-62bf-4987-ad48-63e543d0cfaa",
   "metadata": {},
   "source": [
    "\n",
    "*The code stores the cluster labels for each document in the kmeans_clusters variable. This essentially assigns each document to one of the five clusters identified by K-means.*"
   ]
  },
  {
   "cell_type": "code",
   "execution_count": 17,
   "id": "e1ff69fb-5930-4382-9aa8-0ff2bbbc8ac0",
   "metadata": {},
   "outputs": [],
   "source": [
    "from sklearn.cluster import KMeans\n",
    "\n",
    "# Choose the number of clusters\n",
    "num_clusters = 5\n",
    "kmeans = KMeans(n_clusters=num_clusters, random_state=42)\n",
    "kmeans_clusters = kmeans.fit_predict(lda_topic_matrix)\n"
   ]
  },
  {
   "cell_type": "markdown",
   "id": "fe472e00-a717-4fa9-a3f3-59ab125778cd",
   "metadata": {},
   "source": [
    "**Things to Remember:**\n",
    "\n",
    "*Choosing the optimal number of clusters (5 in this case) can be an iterative process. You might need to experiment with different values to find the best fit for your data.*\n",
    "\n",
    "*K-means doesn't reveal the underlying themes of the clusters. You'll need to analyze the documents assigned to each cluster and the topics associated with those documents to understand what these clusters represent.*"
   ]
  },
  {
   "cell_type": "code",
   "execution_count": 18,
   "id": "f7adb523-1138-4d35-8ddf-6b052217479e",
   "metadata": {},
   "outputs": [
    {
     "name": "stdout",
     "output_type": "stream",
     "text": [
      "                0         1         2         3         4         5         6  \\\n",
      "cluster                                                                         \n",
      "0        0.000275  0.006539  0.035272  0.954821  0.000275  0.000275  0.000275   \n",
      "1        0.000305  0.212701  0.518380  0.045270  0.000224  0.049109  0.000224   \n",
      "2        0.000109  0.020054  0.050542  0.002460  0.000109  0.000109  0.000109   \n",
      "3        0.004514  0.047882  0.814552  0.015363  0.009220  0.022808  0.000197   \n",
      "4        0.000168  0.998487  0.000168  0.000168  0.000168  0.000168  0.000168   \n",
      "\n",
      "                7         8         9  \n",
      "cluster                                \n",
      "0        0.001717  0.000275  0.000275  \n",
      "1        0.151902  0.000224  0.021662  \n",
      "2        0.926293  0.000109  0.000109  \n",
      "3        0.044583  0.000197  0.040685  \n",
      "4        0.000168  0.000168  0.000168  \n"
     ]
    }
   ],
   "source": [
    "import numpy as np\n",
    "import pandas as pd\n",
    "\n",
    "# Create a DataFrame to hold the topic distributions and their assigned clusters\n",
    "topic_distributions_df = pd.DataFrame(lda_topic_matrix)\n",
    "topic_distributions_df['cluster'] = kmeans_clusters\n",
    "\n",
    "# Calculate the average topic distribution for each cluster\n",
    "average_topic_distributions = topic_distributions_df.groupby('cluster').mean()\n",
    "\n",
    "# Display the average topic distributions for each cluster\n",
    "print(average_topic_distributions)\n"
   ]
  },
  {
   "cell_type": "code",
   "execution_count": 19,
   "id": "28a42c18-0c4a-4cfd-ac47-c33957b5508c",
   "metadata": {},
   "outputs": [
    {
     "name": "stdout",
     "output_type": "stream",
     "text": [
      "Topic 0: redress, bst, israel, gaza, compensation, adoption, israeli, government, 90s, aside\n",
      "Topic 1: bst, updated, australia, women, violence, minister, nsw, government, police, health\n",
      "Topic 2: bst, updated, government, budget, australia, says, australian, minister, new, year\n",
      "Topic 3: ukraine, russian, russia, ukrainian, region, military, defence, forces, attack, president\n",
      "Topic 4: jobseekers, providers, provider, bst, interactive, government, israel, dani, gaza, israeli\n",
      "Topic 5: crawford, vcat, pain, tribunal, symptoms, treatment, function, philippine, patient, medication\n",
      "Topic 6: bst, gaza, israel, updated, government, israeli, minister, rafah, new, australia\n",
      "Topic 7: israel, gaza, israeli, bst, aid, rafah, hamas, military, killed, palestinian\n",
      "Topic 8: bst, gaza, israel, israeli, military, government, rafah, palestinian, hamas, updated\n",
      "Topic 9: film, bombs, unexploded, islands, marshall, ordnance, queer, trenches, bot, kindness\n"
     ]
    }
   ],
   "source": [
    "# Get the feature names (words) from the CountVectorizer\n",
    "feature_names = count_vectorizer.get_feature_names_out()\n",
    "\n",
    "# Function to get top n words for each topic\n",
    "def get_top_words(model, feature_names, n_top_words):\n",
    "    top_words = {}\n",
    "    for topic_idx, topic in enumerate(model.components_):\n",
    "        top_words[topic_idx] = [feature_names[i] for i in topic.argsort()[:-n_top_words - 1:-1]]\n",
    "    return top_words\n",
    "\n",
    "top_words = get_top_words(lda_model, feature_names, 10)\n",
    "\n",
    "# Display the top words for each topic\n",
    "for topic, words in top_words.items():\n",
    "    print(f\"Topic {topic}: {', '.join(words)}\")\n"
   ]
  },
  {
   "cell_type": "markdown",
   "id": "b54f4546-d269-4835-9cdf-a707d0577a26",
   "metadata": {},
   "source": [
    "### *Possible Linkages*\n",
    "\n",
    "**Cluster 1:** *High values in \"bst, updated, australia, women, violence\" could be related to a topic on* **domestic violence** *policy updates in Australia.*\n",
    "\n",
    "**Cluster 2:** *High values in \"bst, updated, government, budget\" could be related to the* **Australian government budget announcements or updates.**\n",
    "\n",
    "**Cluster 3:** *High values in \"ukraine, russian, russia\" could be related to the* **ongoing Russia-Ukraine conflict.**\n",
    "\n",
    "\n",
    "### **Further Exploration:**\n",
    "\n",
    "**Investigate Specific Topics:** *If a particular topic is interesting (e.g., \"bst\" in multiple clusters), we can explore which documents within each cluster have high probabilities for that topic. This can help you identify the specific contexts in which \"bst\" is discussed within different clusters.*\n",
    "\n",
    "**Refine Cluster Interpretation:** *By looking at the high-value topics for each cluster and exploring some of the documents within those clusters, we can refine our understanding of the thematic focus of each cluster.*"
   ]
  },
  {
   "cell_type": "markdown",
   "id": "cc585d0e-d462-4685-80ad-b1408c86d0cc",
   "metadata": {},
   "source": [
    "## INSIGHTS\n",
    "\n",
    "**Government Priorities:**\n",
    "\n",
    "*If certain topics consistently appear with high values across multiple clusters, it might suggest a broader government focus on those areas. For instance:*\n",
    "\n",
    "* *High values for \"healthcare\" and \"environment\" across several clusters could indicate a strong emphasis on these issues within the government's agenda.*\n",
    "  \n",
    "  \n",
    "**Policy Areas and Initiatives:**\n",
    "\n",
    "*\n",
    "*By linking the dominant topics to specific government domains and exploring the documents within each cluster, we might be able to identify specific policy areas or initiatives they discuss. For example:*\n",
    "\n",
    "*\n",
    "*A cluster with high values in \"immigration,\" \"refugees,\" and \"border security\" topics might group documents related to government policies on immigration or border control.*\n",
    "\n",
    "**Comparative Analysis:**\n",
    "\n",
    "*\n",
    "*We can compare the topic distributions across clusters to see how the thematic focus varies. This can reveal:*\n",
    "\n",
    "\n",
    "**Differentiation in Government Activities:**\n",
    "\n",
    "*\n",
    "*Some clusters might focus on specific areas like education, while others might discuss broader topics like national security.*\n",
    "\n",
    "**Shifting Priorities over Time:** \n",
    "\n",
    "*\n",
    "*If our data is from different time periods, analyzing cluster topics can reveal changes in government focus over time.*\n",
    "\n",
    "**Limitations:**\n",
    "\n",
    "*\n",
    "*Keeping in mind that K-means clustering doesn't provide inherent meaning to the clusters. We need to interpret them based on the topics associated with each cluster and the documents within them.\n",
    "The number of clusters (k) can impact the results. Experimenting with different k values might provide more nuanced insights.*\n",
    "\n",
    "\n",
    "#### Overall, analyzing the average topic distribution per cluster offers a valuable technique to explore the thematic landscape of our government documents. By linking the topics to government domains and delving deeper into the documents within each cluster, we can gain a richer understanding of the government's areas of focus, policy priorities, and the range of topics discussed in these documents."
   ]
  },
  {
   "cell_type": "markdown",
   "id": "b18ea89d-5b21-45f7-ad5c-cf7dac8fe1af",
   "metadata": {},
   "source": [
    "# "
   ]
  }
 ],
 "metadata": {
  "kernelspec": {
   "display_name": "Python 3 (ipykernel)",
   "language": "python",
   "name": "python3"
  },
  "language_info": {
   "codemirror_mode": {
    "name": "ipython",
    "version": 3
   },
   "file_extension": ".py",
   "mimetype": "text/x-python",
   "name": "python",
   "nbconvert_exporter": "python",
   "pygments_lexer": "ipython3",
   "version": "3.11.9"
  }
 },
 "nbformat": 4,
 "nbformat_minor": 5
}
